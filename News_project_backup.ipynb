{
  "nbformat": 4,
  "nbformat_minor": 0,
  "metadata": {
    "colab": {
      "name": "News_project_backup.ipynb",
      "version": "0.3.2",
      "provenance": [],
      "collapsed_sections": [],
      "toc_visible": true,
      "include_colab_link": true
    },
    "kernelspec": {
      "name": "python3",
      "display_name": "Python 3"
    }
  },
  "cells": [
    {
      "cell_type": "markdown",
      "metadata": {
        "id": "view-in-github",
        "colab_type": "text"
      },
      "source": [
        "<a href=\"https://colab.research.google.com/github/bkarolina/DS-Projects-Springboard/blob/master/News_project_backup.ipynb\" target=\"_parent\"><img src=\"https://colab.research.google.com/assets/colab-badge.svg\" alt=\"Open In Colab\"/></a>"
      ]
    },
    {
      "cell_type": "code",
      "metadata": {
        "id": "0HqmgOtb9wny",
        "colab_type": "code",
        "colab": {}
      },
      "source": [
        "#from google.colab import files\n",
        "#uploaded = files.upload()\n",
        "import io\n",
        "import pandas as pd\n",
        "#news = pd.read_json(io.BytesIO(uploaded['News.json']), lines=True)\n",
        "# Dataset is now stored in a Pandas Dataframe"
      ],
      "execution_count": 0,
      "outputs": []
    },
    {
      "cell_type": "code",
      "metadata": {
        "id": "NZQxHDrNEpLT",
        "colab_type": "code",
        "colab": {}
      },
      "source": [
        "news = pd.read_json('News.json', lines=True)"
      ],
      "execution_count": 0,
      "outputs": []
    },
    {
      "cell_type": "code",
      "metadata": {
        "id": "r6lTwnZ2AA9p",
        "colab_type": "code",
        "outputId": "5205c00a-8f9e-492a-c181-4874c017efa6",
        "colab": {
          "base_uri": "https://localhost:8080/",
          "height": 203
        }
      },
      "source": [
        "news.head()"
      ],
      "execution_count": 0,
      "outputs": [
        {
          "output_type": "execute_result",
          "data": {
            "text/html": [
              "<div>\n",
              "<style scoped>\n",
              "    .dataframe tbody tr th:only-of-type {\n",
              "        vertical-align: middle;\n",
              "    }\n",
              "\n",
              "    .dataframe tbody tr th {\n",
              "        vertical-align: top;\n",
              "    }\n",
              "\n",
              "    .dataframe thead th {\n",
              "        text-align: right;\n",
              "    }\n",
              "</style>\n",
              "<table border=\"1\" class=\"dataframe\">\n",
              "  <thead>\n",
              "    <tr style=\"text-align: right;\">\n",
              "      <th></th>\n",
              "      <th>authors</th>\n",
              "      <th>category</th>\n",
              "      <th>date</th>\n",
              "      <th>headline</th>\n",
              "      <th>link</th>\n",
              "      <th>short_description</th>\n",
              "    </tr>\n",
              "  </thead>\n",
              "  <tbody>\n",
              "    <tr>\n",
              "      <th>0</th>\n",
              "      <td>Melissa Jeltsen</td>\n",
              "      <td>CRIME</td>\n",
              "      <td>2018-05-26</td>\n",
              "      <td>There Were 2 Mass Shootings In Texas Last Week...</td>\n",
              "      <td>https://www.huffingtonpost.com/entry/texas-ama...</td>\n",
              "      <td>She left her husband. He killed their children...</td>\n",
              "    </tr>\n",
              "    <tr>\n",
              "      <th>1</th>\n",
              "      <td>Andy McDonald</td>\n",
              "      <td>ENTERTAINMENT</td>\n",
              "      <td>2018-05-26</td>\n",
              "      <td>Will Smith Joins Diplo And Nicky Jam For The 2...</td>\n",
              "      <td>https://www.huffingtonpost.com/entry/will-smit...</td>\n",
              "      <td>Of course it has a song.</td>\n",
              "    </tr>\n",
              "    <tr>\n",
              "      <th>2</th>\n",
              "      <td>Ron Dicker</td>\n",
              "      <td>ENTERTAINMENT</td>\n",
              "      <td>2018-05-26</td>\n",
              "      <td>Hugh Grant Marries For The First Time At Age 57</td>\n",
              "      <td>https://www.huffingtonpost.com/entry/hugh-gran...</td>\n",
              "      <td>The actor and his longtime girlfriend Anna Ebe...</td>\n",
              "    </tr>\n",
              "    <tr>\n",
              "      <th>3</th>\n",
              "      <td>Ron Dicker</td>\n",
              "      <td>ENTERTAINMENT</td>\n",
              "      <td>2018-05-26</td>\n",
              "      <td>Jim Carrey Blasts 'Castrato' Adam Schiff And D...</td>\n",
              "      <td>https://www.huffingtonpost.com/entry/jim-carre...</td>\n",
              "      <td>The actor gives Dems an ass-kicking for not fi...</td>\n",
              "    </tr>\n",
              "    <tr>\n",
              "      <th>4</th>\n",
              "      <td>Ron Dicker</td>\n",
              "      <td>ENTERTAINMENT</td>\n",
              "      <td>2018-05-26</td>\n",
              "      <td>Julianna Margulies Uses Donald Trump Poop Bags...</td>\n",
              "      <td>https://www.huffingtonpost.com/entry/julianna-...</td>\n",
              "      <td>The \"Dietland\" actress said using the bags is ...</td>\n",
              "    </tr>\n",
              "  </tbody>\n",
              "</table>\n",
              "</div>"
            ],
            "text/plain": [
              "           authors  ...                                  short_description\n",
              "0  Melissa Jeltsen  ...  She left her husband. He killed their children...\n",
              "1    Andy McDonald  ...                           Of course it has a song.\n",
              "2       Ron Dicker  ...  The actor and his longtime girlfriend Anna Ebe...\n",
              "3       Ron Dicker  ...  The actor gives Dems an ass-kicking for not fi...\n",
              "4       Ron Dicker  ...  The \"Dietland\" actress said using the bags is ...\n",
              "\n",
              "[5 rows x 6 columns]"
            ]
          },
          "metadata": {
            "tags": []
          },
          "execution_count": 5
        }
      ]
    },
    {
      "cell_type": "code",
      "metadata": {
        "id": "bQtAxryvABNI",
        "colab_type": "code",
        "colab": {}
      },
      "source": [
        "import string\n",
        "translator = str.maketrans('', '', string.punctuation)\n",
        "news.headline = news.headline.apply(lambda x: x.translate(translator))"
      ],
      "execution_count": 0,
      "outputs": []
    },
    {
      "cell_type": "code",
      "metadata": {
        "id": "N70HO7ovABQX",
        "colab_type": "code",
        "outputId": "c9d97912-dace-447d-c71f-d30c241d689c",
        "colab": {
          "base_uri": "https://localhost:8080/",
          "height": 206
        }
      },
      "source": [
        "news.info()"
      ],
      "execution_count": 0,
      "outputs": [
        {
          "output_type": "stream",
          "text": [
            "<class 'pandas.core.frame.DataFrame'>\n",
            "RangeIndex: 200853 entries, 0 to 200852\n",
            "Data columns (total 6 columns):\n",
            "authors              200853 non-null object\n",
            "category             200853 non-null object\n",
            "date                 200853 non-null datetime64[ns]\n",
            "headline             200853 non-null object\n",
            "link                 200853 non-null object\n",
            "short_description    200853 non-null object\n",
            "dtypes: datetime64[ns](1), object(5)\n",
            "memory usage: 9.2+ MB\n"
          ],
          "name": "stdout"
        }
      ]
    },
    {
      "cell_type": "code",
      "metadata": {
        "id": "Ns69InynABTc",
        "colab_type": "code",
        "outputId": "6b30645c-f823-423a-91a1-bbb8bb295c63",
        "colab": {
          "base_uri": "https://localhost:8080/",
          "height": 234
        }
      },
      "source": [
        "news.describe()"
      ],
      "execution_count": 0,
      "outputs": [
        {
          "output_type": "execute_result",
          "data": {
            "text/html": [
              "<div>\n",
              "<style scoped>\n",
              "    .dataframe tbody tr th:only-of-type {\n",
              "        vertical-align: middle;\n",
              "    }\n",
              "\n",
              "    .dataframe tbody tr th {\n",
              "        vertical-align: top;\n",
              "    }\n",
              "\n",
              "    .dataframe thead th {\n",
              "        text-align: right;\n",
              "    }\n",
              "</style>\n",
              "<table border=\"1\" class=\"dataframe\">\n",
              "  <thead>\n",
              "    <tr style=\"text-align: right;\">\n",
              "      <th></th>\n",
              "      <th>authors</th>\n",
              "      <th>category</th>\n",
              "      <th>date</th>\n",
              "      <th>headline</th>\n",
              "      <th>link</th>\n",
              "      <th>short_description</th>\n",
              "    </tr>\n",
              "  </thead>\n",
              "  <tbody>\n",
              "    <tr>\n",
              "      <th>count</th>\n",
              "      <td>200853</td>\n",
              "      <td>200853</td>\n",
              "      <td>200853</td>\n",
              "      <td>200853</td>\n",
              "      <td>200853</td>\n",
              "      <td>200853</td>\n",
              "    </tr>\n",
              "    <tr>\n",
              "      <th>unique</th>\n",
              "      <td>27993</td>\n",
              "      <td>41</td>\n",
              "      <td>2309</td>\n",
              "      <td>199320</td>\n",
              "      <td>200812</td>\n",
              "      <td>178353</td>\n",
              "    </tr>\n",
              "    <tr>\n",
              "      <th>top</th>\n",
              "      <td></td>\n",
              "      <td>POLITICS</td>\n",
              "      <td>2013-01-17 00:00:00</td>\n",
              "      <td>Sunday Roundup</td>\n",
              "      <td>https://www.huffingtonpost.comhttp://www.theda...</td>\n",
              "      <td></td>\n",
              "    </tr>\n",
              "    <tr>\n",
              "      <th>freq</th>\n",
              "      <td>36620</td>\n",
              "      <td>32739</td>\n",
              "      <td>100</td>\n",
              "      <td>90</td>\n",
              "      <td>2</td>\n",
              "      <td>19712</td>\n",
              "    </tr>\n",
              "    <tr>\n",
              "      <th>first</th>\n",
              "      <td>NaN</td>\n",
              "      <td>NaN</td>\n",
              "      <td>2012-01-28 00:00:00</td>\n",
              "      <td>NaN</td>\n",
              "      <td>NaN</td>\n",
              "      <td>NaN</td>\n",
              "    </tr>\n",
              "    <tr>\n",
              "      <th>last</th>\n",
              "      <td>NaN</td>\n",
              "      <td>NaN</td>\n",
              "      <td>2018-05-26 00:00:00</td>\n",
              "      <td>NaN</td>\n",
              "      <td>NaN</td>\n",
              "      <td>NaN</td>\n",
              "    </tr>\n",
              "  </tbody>\n",
              "</table>\n",
              "</div>"
            ],
            "text/plain": [
              "       authors  ... short_description\n",
              "count   200853  ...            200853\n",
              "unique   27993  ...            178353\n",
              "top             ...                  \n",
              "freq     36620  ...             19712\n",
              "first      NaN  ...               NaN\n",
              "last       NaN  ...               NaN\n",
              "\n",
              "[6 rows x 6 columns]"
            ]
          },
          "metadata": {
            "tags": []
          },
          "execution_count": 8
        }
      ]
    },
    {
      "cell_type": "code",
      "metadata": {
        "id": "jpjmg9hRAYGT",
        "colab_type": "code",
        "outputId": "7478331a-5089-4e72-e0e2-58ed28431e8b",
        "colab": {
          "base_uri": "https://localhost:8080/",
          "height": 203
        }
      },
      "source": [
        "news.drop(columns=['date', 'link'], axis=1, inplace=True)\n",
        "news.head()"
      ],
      "execution_count": 0,
      "outputs": [
        {
          "output_type": "execute_result",
          "data": {
            "text/html": [
              "<div>\n",
              "<style scoped>\n",
              "    .dataframe tbody tr th:only-of-type {\n",
              "        vertical-align: middle;\n",
              "    }\n",
              "\n",
              "    .dataframe tbody tr th {\n",
              "        vertical-align: top;\n",
              "    }\n",
              "\n",
              "    .dataframe thead th {\n",
              "        text-align: right;\n",
              "    }\n",
              "</style>\n",
              "<table border=\"1\" class=\"dataframe\">\n",
              "  <thead>\n",
              "    <tr style=\"text-align: right;\">\n",
              "      <th></th>\n",
              "      <th>authors</th>\n",
              "      <th>category</th>\n",
              "      <th>headline</th>\n",
              "      <th>short_description</th>\n",
              "    </tr>\n",
              "  </thead>\n",
              "  <tbody>\n",
              "    <tr>\n",
              "      <th>0</th>\n",
              "      <td>Melissa Jeltsen</td>\n",
              "      <td>CRIME</td>\n",
              "      <td>There Were 2 Mass Shootings In Texas Last Week...</td>\n",
              "      <td>She left her husband. He killed their children...</td>\n",
              "    </tr>\n",
              "    <tr>\n",
              "      <th>1</th>\n",
              "      <td>Andy McDonald</td>\n",
              "      <td>ENTERTAINMENT</td>\n",
              "      <td>Will Smith Joins Diplo And Nicky Jam For The 2...</td>\n",
              "      <td>Of course it has a song.</td>\n",
              "    </tr>\n",
              "    <tr>\n",
              "      <th>2</th>\n",
              "      <td>Ron Dicker</td>\n",
              "      <td>ENTERTAINMENT</td>\n",
              "      <td>Hugh Grant Marries For The First Time At Age 57</td>\n",
              "      <td>The actor and his longtime girlfriend Anna Ebe...</td>\n",
              "    </tr>\n",
              "    <tr>\n",
              "      <th>3</th>\n",
              "      <td>Ron Dicker</td>\n",
              "      <td>ENTERTAINMENT</td>\n",
              "      <td>Jim Carrey Blasts Castrato Adam Schiff And Dem...</td>\n",
              "      <td>The actor gives Dems an ass-kicking for not fi...</td>\n",
              "    </tr>\n",
              "    <tr>\n",
              "      <th>4</th>\n",
              "      <td>Ron Dicker</td>\n",
              "      <td>ENTERTAINMENT</td>\n",
              "      <td>Julianna Margulies Uses Donald Trump Poop Bags...</td>\n",
              "      <td>The \"Dietland\" actress said using the bags is ...</td>\n",
              "    </tr>\n",
              "  </tbody>\n",
              "</table>\n",
              "</div>"
            ],
            "text/plain": [
              "           authors  ...                                  short_description\n",
              "0  Melissa Jeltsen  ...  She left her husband. He killed their children...\n",
              "1    Andy McDonald  ...                           Of course it has a song.\n",
              "2       Ron Dicker  ...  The actor and his longtime girlfriend Anna Ebe...\n",
              "3       Ron Dicker  ...  The actor gives Dems an ass-kicking for not fi...\n",
              "4       Ron Dicker  ...  The \"Dietland\" actress said using the bags is ...\n",
              "\n",
              "[5 rows x 4 columns]"
            ]
          },
          "metadata": {
            "tags": []
          },
          "execution_count": 9
        }
      ]
    },
    {
      "cell_type": "code",
      "metadata": {
        "id": "1PhltVt3AYJY",
        "colab_type": "code",
        "outputId": "b8867193-af01-4e03-e4ad-8d823ea88eb7",
        "colab": {
          "base_uri": "https://localhost:8080/",
          "height": 171
        }
      },
      "source": [
        "news.category.unique()"
      ],
      "execution_count": 0,
      "outputs": [
        {
          "output_type": "execute_result",
          "data": {
            "text/plain": [
              "array(['CRIME', 'ENTERTAINMENT', 'WORLD NEWS', 'IMPACT', 'POLITICS',\n",
              "       'WEIRD NEWS', 'BLACK VOICES', 'WOMEN', 'COMEDY', 'QUEER VOICES',\n",
              "       'SPORTS', 'BUSINESS', 'TRAVEL', 'MEDIA', 'TECH', 'RELIGION',\n",
              "       'SCIENCE', 'LATINO VOICES', 'EDUCATION', 'COLLEGE', 'PARENTS',\n",
              "       'ARTS & CULTURE', 'STYLE', 'GREEN', 'TASTE', 'HEALTHY LIVING',\n",
              "       'THE WORLDPOST', 'GOOD NEWS', 'WORLDPOST', 'FIFTY', 'ARTS',\n",
              "       'WELLNESS', 'PARENTING', 'HOME & LIVING', 'STYLE & BEAUTY',\n",
              "       'DIVORCE', 'WEDDINGS', 'FOOD & DRINK', 'MONEY', 'ENVIRONMENT',\n",
              "       'CULTURE & ARTS'], dtype=object)"
            ]
          },
          "metadata": {
            "tags": []
          },
          "execution_count": 10
        }
      ]
    },
    {
      "cell_type": "code",
      "metadata": {
        "id": "CGBcMzdCAYMK",
        "colab_type": "code",
        "outputId": "f47abe43-979d-410f-ad0e-d800c05e7630",
        "colab": {
          "base_uri": "https://localhost:8080/",
          "height": 103
        }
      },
      "source": [
        "news.authors.unique()"
      ],
      "execution_count": 0,
      "outputs": [
        {
          "output_type": "execute_result",
          "data": {
            "text/plain": [
              "array(['Melissa Jeltsen', 'Andy McDonald', 'Ron Dicker', ...,\n",
              "       'Courtney Garcia, Contributor\\nI tell stories and drink wine.',\n",
              "       'Mateo Gutierrez, Contributor\\nArtist',\n",
              "       'John Giacobbi, Contributor\\nTales from the Interweb by The Web Sheriff'],\n",
              "      dtype=object)"
            ]
          },
          "metadata": {
            "tags": []
          },
          "execution_count": 11
        }
      ]
    },
    {
      "cell_type": "code",
      "metadata": {
        "id": "zf28uV9RAm4Y",
        "colab_type": "code",
        "outputId": "22d3d07f-aaf7-40e3-bff6-13876e7e5f0d",
        "colab": {
          "base_uri": "https://localhost:8080/",
          "height": 771
        }
      },
      "source": [
        "cats = news.groupby('category')\n",
        "print(\"total categories:\", cats.ngroups)\n",
        "print(cats.size())"
      ],
      "execution_count": 0,
      "outputs": [
        {
          "output_type": "stream",
          "text": [
            "total categories: 41\n",
            "category\n",
            "ARTS               1509\n",
            "ARTS & CULTURE     1339\n",
            "BLACK VOICES       4528\n",
            "BUSINESS           5937\n",
            "COLLEGE            1144\n",
            "COMEDY             5175\n",
            "CRIME              3405\n",
            "CULTURE & ARTS     1030\n",
            "DIVORCE            3426\n",
            "EDUCATION          1004\n",
            "ENTERTAINMENT     16058\n",
            "ENVIRONMENT        1323\n",
            "FIFTY              1401\n",
            "FOOD & DRINK       6226\n",
            "GOOD NEWS          1398\n",
            "GREEN              2622\n",
            "HEALTHY LIVING     6694\n",
            "HOME & LIVING      4195\n",
            "IMPACT             3459\n",
            "LATINO VOICES      1129\n",
            "MEDIA              2815\n",
            "MONEY              1707\n",
            "PARENTING          8677\n",
            "PARENTS            3955\n",
            "POLITICS          32739\n",
            "QUEER VOICES       6314\n",
            "RELIGION           2556\n",
            "SCIENCE            2178\n",
            "SPORTS             4884\n",
            "STYLE              2254\n",
            "STYLE & BEAUTY     9649\n",
            "TASTE              2096\n",
            "TECH               2082\n",
            "THE WORLDPOST      3664\n",
            "TRAVEL             9887\n",
            "WEDDINGS           3651\n",
            "WEIRD NEWS         2670\n",
            "WELLNESS          17827\n",
            "WOMEN              3490\n",
            "WORLD NEWS         2177\n",
            "WORLDPOST          2579\n",
            "dtype: int64\n"
          ],
          "name": "stdout"
        }
      ]
    },
    {
      "cell_type": "code",
      "metadata": {
        "id": "wi_TE-R2ArG2",
        "colab_type": "code",
        "colab": {}
      },
      "source": [
        "# as shown above, THE WORLDPOST and WORLDPOST should be the same category, so merge them. (and ohers as well)\n",
        "def category_cleaner(x):\n",
        "    \n",
        "    if x == 'THE WORLDPOST':\n",
        "        return 'WORLDPOST'\n",
        "    elif x == 'PARENTING':\n",
        "        return 'PARENTS'\n",
        "    elif x == 'ARTS' or x == 'CULTURE & ARTS':\n",
        "        return 'ARTS & CULTURE'\n",
        "    elif x == 'STYLE':\n",
        "        return 'STYLE & BEAUTY'\n",
        "    elif x == 'COLLEGE':\n",
        "        return 'EDUCATION'\n",
        "    elif x == 'TASTE':\n",
        "        return 'FOOD & DRINK'\n",
        "    else:\n",
        "        return x\n",
        "    \n",
        "news['category'] = news.category.apply(category_cleaner)\n"
      ],
      "execution_count": 0,
      "outputs": []
    },
    {
      "cell_type": "code",
      "metadata": {
        "id": "7iHEIZD2ArJo",
        "colab_type": "code",
        "outputId": "4b53624d-0a5d-4d64-9e6c-213e4c79f17c",
        "colab": {
          "base_uri": "https://localhost:8080/",
          "height": 651
        }
      },
      "source": [
        "cats = news.groupby('category')\n",
        "print(\"total categories:\", cats.ngroups)\n",
        "print(cats.size())"
      ],
      "execution_count": 0,
      "outputs": [
        {
          "output_type": "stream",
          "text": [
            "total categories: 34\n",
            "category\n",
            "ARTS & CULTURE     3878\n",
            "BLACK VOICES       4528\n",
            "BUSINESS           5937\n",
            "COMEDY             5175\n",
            "CRIME              3405\n",
            "DIVORCE            3426\n",
            "EDUCATION          2148\n",
            "ENTERTAINMENT     16058\n",
            "ENVIRONMENT        1323\n",
            "FIFTY              1401\n",
            "FOOD & DRINK       8322\n",
            "GOOD NEWS          1398\n",
            "GREEN              2622\n",
            "HEALTHY LIVING     6694\n",
            "HOME & LIVING      4195\n",
            "IMPACT             3459\n",
            "LATINO VOICES      1129\n",
            "MEDIA              2815\n",
            "MONEY              1707\n",
            "PARENTS           12632\n",
            "POLITICS          32739\n",
            "QUEER VOICES       6314\n",
            "RELIGION           2556\n",
            "SCIENCE            2178\n",
            "SPORTS             4884\n",
            "STYLE & BEAUTY    11903\n",
            "TECH               2082\n",
            "TRAVEL             9887\n",
            "WEDDINGS           3651\n",
            "WEIRD NEWS         2670\n",
            "WELLNESS          17827\n",
            "WOMEN              3490\n",
            "WORLD NEWS         2177\n",
            "WORLDPOST          6243\n",
            "dtype: int64\n"
          ],
          "name": "stdout"
        }
      ]
    },
    {
      "cell_type": "code",
      "metadata": {
        "id": "vJEFShKnAYOs",
        "colab_type": "code",
        "colab": {}
      },
      "source": [
        "from sklearn.base import BaseEstimator, TransformerMixin\n",
        "\n",
        "class TextSelector(BaseEstimator, TransformerMixin):\n",
        "    \"\"\"\n",
        "    Transformer to select a single column from the data frame to perform additional transformations on\n",
        "    Use on text columns in the data\n",
        "    \"\"\"\n",
        "    def __init__(self, key):\n",
        "        self.key = key\n",
        "\n",
        "    def fit(self, X, y=None):\n",
        "        return self\n",
        "\n",
        "    def transform(self, X):\n",
        "        return X[self.key]"
      ],
      "execution_count": 0,
      "outputs": []
    },
    {
      "cell_type": "code",
      "metadata": {
        "id": "5lOuW4YPArM0",
        "colab_type": "code",
        "outputId": "d2c34d77-db8a-4ab2-a65e-eb5a1d6b5d0e",
        "colab": {
          "base_uri": "https://localhost:8080/",
          "height": 375
        }
      },
      "source": [
        "num_sample = 100 # number of samples we want to have\n",
        "df0_list = []  # list of dataframe for each category\n",
        "categories = news.category.unique() # list of categories\n",
        "\n",
        "for cat in categories:\n",
        "  df0 = news[news['category'] == cat]\n",
        "  df_under0 = df0.sample(num_sample)\n",
        "  df0_list.append(df_under0)\n",
        "\n",
        "final_under = pd.concat(df0_list)\n",
        "#print(\"Random under-sampling:\")\n",
        "#print(final_under.category.value_counts())\n",
        "df = final_under\n",
        "final_under.category.value_counts().plot(kind='bar', title='Count (category)')"
      ],
      "execution_count": 0,
      "outputs": [
        {
          "output_type": "execute_result",
          "data": {
            "text/plain": [
              "<matplotlib.axes._subplots.AxesSubplot at 0x7f7c0a279860>"
            ]
          },
          "metadata": {
            "tags": []
          },
          "execution_count": 33
        },
        {
          "output_type": "display_data",
          "data": {
            "image/png": "[encoded data removed]",
            "text/plain": [
              "<Figure size 432x288 with 1 Axes>"
            ]
          },
          "metadata": {
            "tags": []
          }
        }
      ]
    },
    {
      "cell_type": "code",
      "metadata": {
        "id": "DwES0Z6Bq65N",
        "colab_type": "code",
        "outputId": "7c7b04eb-3d12-4de0-e187-81d3b63c1324",
        "colab": {
          "base_uri": "https://localhost:8080/",
          "height": 172
        }
      },
      "source": [
        "df.describe()"
      ],
      "execution_count": 0,
      "outputs": [
        {
          "output_type": "execute_result",
          "data": {
            "text/html": [
              "<div>\n",
              "<style scoped>\n",
              "    .dataframe tbody tr th:only-of-type {\n",
              "        vertical-align: middle;\n",
              "    }\n",
              "\n",
              "    .dataframe tbody tr th {\n",
              "        vertical-align: top;\n",
              "    }\n",
              "\n",
              "    .dataframe thead th {\n",
              "        text-align: right;\n",
              "    }\n",
              "</style>\n",
              "<table border=\"1\" class=\"dataframe\">\n",
              "  <thead>\n",
              "    <tr style=\"text-align: right;\">\n",
              "      <th></th>\n",
              "      <th>authors</th>\n",
              "      <th>category</th>\n",
              "      <th>headline</th>\n",
              "      <th>short_description</th>\n",
              "    </tr>\n",
              "  </thead>\n",
              "  <tbody>\n",
              "    <tr>\n",
              "      <th>count</th>\n",
              "      <td>3400</td>\n",
              "      <td>3400</td>\n",
              "      <td>3400</td>\n",
              "      <td>3400</td>\n",
              "    </tr>\n",
              "    <tr>\n",
              "      <th>unique</th>\n",
              "      <td>1526</td>\n",
              "      <td>34</td>\n",
              "      <td>3393</td>\n",
              "      <td>3002</td>\n",
              "    </tr>\n",
              "    <tr>\n",
              "      <th>top</th>\n",
              "      <td></td>\n",
              "      <td>ENTERTAINMENT</td>\n",
              "      <td>Animal Photos Of The Week</td>\n",
              "      <td></td>\n",
              "    </tr>\n",
              "    <tr>\n",
              "      <th>freq</th>\n",
              "      <td>659</td>\n",
              "      <td>100</td>\n",
              "      <td>5</td>\n",
              "      <td>391</td>\n",
              "    </tr>\n",
              "  </tbody>\n",
              "</table>\n",
              "</div>"
            ],
            "text/plain": [
              "       authors       category                   headline short_description\n",
              "count     3400           3400                       3400              3400\n",
              "unique    1526             34                       3393              3002\n",
              "top             ENTERTAINMENT  Animal Photos Of The Week                  \n",
              "freq       659            100                          5               391"
            ]
          },
          "metadata": {
            "tags": []
          },
          "execution_count": 36
        }
      ]
    },
    {
      "cell_type": "code",
      "metadata": {
        "id": "ttPo-rDYAYRL",
        "colab_type": "code",
        "outputId": "b0488105-447b-4c3d-9e07-3111d845fe29",
        "colab": {
          "base_uri": "https://localhost:8080/",
          "height": 203
        }
      },
      "source": [
        "features = ['headline', 'short_description']\n",
        "target = 'category'\n",
        "from sklearn.model_selection import train_test_split\n",
        "\n",
        "X_train, X_test, y_train, y_test = train_test_split(df[features], df[target], test_size=0.2, random_state=42)\n",
        "X_train.head()"
      ],
      "execution_count": 0,
      "outputs": [
        {
          "output_type": "execute_result",
          "data": {
            "text/html": [
              "<div>\n",
              "<style scoped>\n",
              "    .dataframe tbody tr th:only-of-type {\n",
              "        vertical-align: middle;\n",
              "    }\n",
              "\n",
              "    .dataframe tbody tr th {\n",
              "        vertical-align: top;\n",
              "    }\n",
              "\n",
              "    .dataframe thead th {\n",
              "        text-align: right;\n",
              "    }\n",
              "</style>\n",
              "<table border=\"1\" class=\"dataframe\">\n",
              "  <thead>\n",
              "    <tr style=\"text-align: right;\">\n",
              "      <th></th>\n",
              "      <th>headline</th>\n",
              "      <th>short_description</th>\n",
              "    </tr>\n",
              "  </thead>\n",
              "  <tbody>\n",
              "    <tr>\n",
              "      <th>147830</th>\n",
              "      <td>Energy Prices Shock Hawaii Farmers Into Altern...</td>\n",
              "      <td>HAMAKUA, BIG ISLAND — Lush green fields rise a...</td>\n",
              "    </tr>\n",
              "    <tr>\n",
              "      <th>156420</th>\n",
              "      <td>Rihannas Topshop Lawsuit Demands 5 Million Ove...</td>\n",
              "      <td>Rihanna is a big fan of Topshop, splurging on ...</td>\n",
              "    </tr>\n",
              "    <tr>\n",
              "      <th>129207</th>\n",
              "      <td>6 Things Real People Learned From Having Reven...</td>\n",
              "      <td>By Danielle Page for YourTango.com Lesson #2: ...</td>\n",
              "    </tr>\n",
              "    <tr>\n",
              "      <th>168135</th>\n",
              "      <td>7 Weekday Breakfast Recipes</td>\n",
              "      <td>Breakfast may be the most important meal of th...</td>\n",
              "    </tr>\n",
              "    <tr>\n",
              "      <th>141157</th>\n",
              "      <td>Bamboo Treehouse In Bali Is Pretty Much A Mans...</td>\n",
              "      <td>As if Bali's beautiful seascape and tropical w...</td>\n",
              "    </tr>\n",
              "  </tbody>\n",
              "</table>\n",
              "</div>"
            ],
            "text/plain": [
              "                                                 headline                                  short_description\n",
              "147830  Energy Prices Shock Hawaii Farmers Into Altern...  HAMAKUA, BIG ISLAND — Lush green fields rise a...\n",
              "156420  Rihannas Topshop Lawsuit Demands 5 Million Ove...  Rihanna is a big fan of Topshop, splurging on ...\n",
              "129207  6 Things Real People Learned From Having Reven...  By Danielle Page for YourTango.com Lesson #2: ...\n",
              "168135                        7 Weekday Breakfast Recipes  Breakfast may be the most important meal of th...\n",
              "141157  Bamboo Treehouse In Bali Is Pretty Much A Mans...  As if Bali's beautiful seascape and tropical w..."
            ]
          },
          "metadata": {
            "tags": []
          },
          "execution_count": 37
        }
      ]
    },
    {
      "cell_type": "code",
      "metadata": {
        "id": "wIvhPJ17AYT9",
        "colab_type": "code",
        "colab": {}
      },
      "source": [
        ""
      ],
      "execution_count": 0,
      "outputs": []
    },
    {
      "cell_type": "code",
      "metadata": {
        "id": "Q7JVXg7bA_XZ",
        "colab_type": "code",
        "colab": {}
      },
      "source": [
        "from sklearn.pipeline import Pipeline\n",
        "from sklearn.feature_extraction.text import TfidfVectorizer\n",
        "from sklearn.decomposition import TruncatedSVD\n",
        "from nltk.tokenize import TweetTokenizer\n",
        "\n",
        "TweetTokenizer().tokenize # here I can change parameters of it\n",
        "headline = Pipeline([\n",
        "                ('selector', TextSelector(key='headline')),\n",
        "                ('tfidf', TfidfVectorizer(ngram_range=(1, 2),tokenizer=TweetTokenizer().tokenize, max_df=0.9, stop_words='english')),\n",
        "                ('TruncatedSVD', TruncatedSVD(n_components=1000))\n",
        "            ])"
      ],
      "execution_count": 0,
      "outputs": []
    },
    {
      "cell_type": "code",
      "metadata": {
        "id": "8JjlcMexA_Z8",
        "colab_type": "code",
        "colab": {}
      },
      "source": [
        "description =  Pipeline([\n",
        "                ('selector', TextSelector(key='short_description')),\n",
        "                ('tfidf', TfidfVectorizer(ngram_range=(1, 2),tokenizer=TweetTokenizer().tokenize, max_df=0.9, stop_words='english')),\n",
        "                ('TruncatedSVD', TruncatedSVD(n_components=1000))\n",
        "            ])"
      ],
      "execution_count": 0,
      "outputs": []
    },
    {
      "cell_type": "code",
      "metadata": {
        "id": "Y1HtP-8qA_dm",
        "colab_type": "code",
        "outputId": "fc1cf53d-9beb-4a2d-9d13-1cec3c38f5bb",
        "colab": {
          "base_uri": "https://localhost:8080/",
          "height": 86
        }
      },
      "source": [
        "from sklearn.pipeline import FeatureUnion\n",
        "import time\n",
        "start_time = time.time()\n",
        "\n",
        "feats = FeatureUnion([('headline', headline), \n",
        "                      ('description', description)\n",
        "                       ])\n",
        "\n",
        "feature_processing = Pipeline([('feats', feats)])\n",
        "X_train_tr = feature_processing.fit_transform(X_train)\n",
        "X_test_tr = feature_processing.transform(X_test)\n",
        "\n",
        "from sklearn.linear_model import LogisticRegression\n",
        "\n",
        "logreg = LogisticRegression(random_state=0, class_weight='balanced', C=1.0)\n",
        "logreg.fit(X_train_tr, y_train)\n",
        "preds = logreg.predict(X_test_tr)\n",
        "\n",
        "from sklearn.metrics import f1_score\n",
        "print(\"macro:\", f1_score(y_test, preds, average='macro'))\n",
        "print(\"micro:\", f1_score(y_test, preds, average='micro'))\n",
        "print(\"I am done!\")\n",
        "print(\"--- %s seconds ---\" % (time.time() - start_time))"
      ],
      "execution_count": 0,
      "outputs": [
        {
          "output_type": "stream",
          "text": [
            "macro: 0.3287453139785712\n",
            "micro: 0.33088235294117646\n",
            "I am done!\n",
            "--- 81.71385192871094 seconds ---\n"
          ],
          "name": "stdout"
        }
      ]
    },
    {
      "cell_type": "code",
      "metadata": {
        "id": "tP1OK-uuA_iT",
        "colab_type": "code",
        "colab": {}
      },
      "source": [
        "start_time = time.time()\n",
        "logreg = LogisticRegression(random_state=0, class_weight='balanced', C=1.0, solver='newton-cg')\n",
        "logreg.fit(X_train_tr, y_train)\n",
        "preds = logreg.predict(X_test_tr)\n",
        "print(\"micro:\", f1_score(y_test, preds, average='micro'))\n",
        "print(\"I am done!\")\n",
        "print(\"--- %s seconds ---\" % (time.time() - start_time))"
      ],
      "execution_count": 0,
      "outputs": []
    },
    {
      "cell_type": "code",
      "metadata": {
        "id": "Tx6wUEGpA_lQ",
        "colab_type": "code",
        "colab": {}
      },
      "source": [
        "import numpy as np\n",
        "from sklearn.metrics import confusion_matrix, f1_score, precision_score, recall_score\n",
        "# import warnings filter\n",
        "from warnings import simplefilter\n",
        "# ignore all future warnings\n",
        "simplefilter(action='ignore', category=FutureWarning)\n",
        "\n",
        "def updated_dict(d, **kwargs):\n",
        "    updated_d = d.copy()\n",
        "    updated_d.update(kwargs)\n",
        "    return updated_d\n",
        "\n",
        "def train_logreg(X_train_sc, y_train, **kwargs):\n",
        "    clf = LogisticRegression(random_state=0, \n",
        "                             class_weight='balanced',\n",
        "                             solver=kwargs.get('solver', 'sag'), # instead of defaults you can have {} which would rise exception\n",
        "                             penalty=kwargs.get('penalty', 'l2'), \n",
        "                             C=kwargs.get('C', 1.0))\n",
        "    model = clf.fit(X_train_sc, y_train)\n",
        "    return model \n",
        "\n",
        "# return as pandas series, with multiple evaulation metrcis (fp, tn, fn, tp)\n",
        "def eval_model(X_test_sc, y_test, X_train_sc, y_train):\n",
        "    hp['f1_score'] = f1_score(y_test, model.predict(X_test_sc), average='micro', labels=np.unique(model.predict(X_test_sc)))\n",
        "    hp['recall'] = recall_score(y_test, model.predict(X_test_sc), average='micro', labels=np.unique(model.predict(X_test_sc)))\n",
        "    hp['precision'] = precision_score(y_test, model.predict(X_test_sc), average='micro', labels=np.unique(model.predict(X_test_sc)))\n",
        "    return hp\n",
        "\n",
        "scores = []\n",
        "logreg_def_hyperpar = dict(train_function=train_logreg, solver='liblinear', penalty='l1', C=1.0)\n",
        "logreg_hyperparameters = [logreg_def_hyperpar, updated_dict(logreg_def_hyperpar, C=0.5),\n",
        "                         updated_dict(logreg_def_hyperpar, C=0.1),\n",
        "                         #updated_dict(logreg_def_hyperpar,solver='sag', penalty='l2'),\n",
        "                         #updated_dict(logreg_def_hyperpar, solver='sag', penalty='l2', C=0.5),\n",
        "                         #updated_dict(logreg_def_hyperpar,solver='sag', penalty='l2', C=0.1),\n",
        "                         updated_dict(logreg_def_hyperpar,solver='newton-cg', penalty='l2'),\n",
        "                         updated_dict(logreg_def_hyperpar,solver='newton-cg', penalty='l2', C=0.5),\n",
        "                         updated_dict(logreg_def_hyperpar, solver='newton-cg', penalty='l2', C=0.1),\n",
        "                        # updated_dict(logreg_def_hyperpar,solver='lbfgs', penalty='l2'),  \n",
        "                        # updated_dict(logreg_def_hyperpar,solver='lbfgs', penalty='l2', C=0.5),\n",
        "                        # updated_dict(logreg_def_hyperpar,solver='lbfgs', penalty='l2', C=0.1)\n",
        "                        ]\n",
        "\n",
        "\n",
        "start_time = time.time()\n",
        "for hyperparameters in logreg_hyperparameters:\n",
        "    hp = logreg_def_hyperpar.copy()\n",
        "    hp.update(hyperparameters)\n",
        "    train = hp.get('train_function')\n",
        "    print(hp)\n",
        "    model = train(X_train_tr, y_train, **hp)\n",
        "    hp = eval_model(X_test_tr, y_test, X_train_tr, y_train)\n",
        "    scores.append(hp)\n",
        "print(\"I am done!\")\n",
        "print(\"--- %s seconds ---\" % (time.time() - start_time))"
      ],
      "execution_count": 0,
      "outputs": []
    },
    {
      "cell_type": "code",
      "metadata": {
        "id": "nTMGKMmfA_nl",
        "colab_type": "code",
        "colab": {}
      },
      "source": [
        "def clean_func_names(df):\n",
        "    df = df.copy()   \n",
        "    columns = [c for c in df.columns if callable(df[c][0])] \n",
        "    for c in columns:\n",
        "        funcs = []\n",
        "        for train in df[c]:\n",
        "            funcs.append(train.__name__)\n",
        "        df[c] = funcs\n",
        "    return df\n",
        "  \n",
        "result = clean_func_names(pd.DataFrame(scores))"
      ],
      "execution_count": 0,
      "outputs": []
    },
    {
      "cell_type": "code",
      "metadata": {
        "id": "Plcmg5S_AYWk",
        "colab_type": "code",
        "colab": {}
      },
      "source": [
        "result.to_csv('log_reg_100per sample.csv', index=False)"
      ],
      "execution_count": 0,
      "outputs": []
    },
    {
      "cell_type": "code",
      "metadata": {
        "id": "ODZ4kDSBretr",
        "colab_type": "code",
        "colab": {}
      },
      "source": [
        ""
      ],
      "execution_count": 0,
      "outputs": []
    }
  ]
}